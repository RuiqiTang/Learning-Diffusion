{
  "cells": [
    {
      "cell_type": "markdown",
      "metadata": {
        "colab_type": "text",
        "id": "view-in-github"
      },
      "source": [
        "<a href=\"https://colab.research.google.com/github/RuiqiTang/Learning-Diffusion/blob/main/ddim_example.ipynb\" target=\"_parent\"><img src=\"https://colab.research.google.com/assets/colab-badge.svg\" alt=\"Open In Colab\"/></a>"
      ]
    },
    {
      "cell_type": "code",
      "execution_count": 3,
      "metadata": {
        "colab": {
          "base_uri": "https://localhost:8080/"
        },
        "id": "q3XL32rZ27LC",
        "outputId": "04cf98cc-2e9c-46ad-be3e-90cc1d8f377a"
      },
      "outputs": [
        {
          "name": "stdout",
          "output_type": "stream",
          "text": [
            "fatal: destination path 'Learning-Diffusion' already exists and is not an empty directory.\n"
          ]
        }
      ],
      "source": [
        "!git clone https://github.com/RuiqiTang/Learning-Diffusion.git"
      ]
    },
    {
      "cell_type": "code",
      "execution_count": 11,
      "metadata": {
        "colab": {
          "base_uri": "https://localhost:8080/"
        },
        "id": "pCb4CTAX3jUJ",
        "outputId": "3206b3bb-b621-44d9-fdf7-d70df8c682ce"
      },
      "outputs": [
        {
          "name": "stdout",
          "output_type": "stream",
          "text": [
            "[Errno 2] No such file or directory: 'Learning-Diffusion'\n",
            "/content/Learning-Diffusion\n"
          ]
        }
      ],
      "source": [
        "cd Learning-Diffusion"
      ]
    },
    {
      "cell_type": "code",
      "execution_count": null,
      "metadata": {
        "id": "9QqH9uig33Vq"
      },
      "outputs": [],
      "source": [
        "from tqdm import tqdm\n",
        "import matplotlib.pyplot as plt\n",
        "\n",
        "import torch\n",
        "import torch.nn as nn\n",
        "import torch.nn.functional as F\n",
        "import wandb\n",
        "from torchvision import datasets,transforms\n",
        "\n",
        "from ..BackboneModels.UNet2 import UNetModel\n",
        "from ddim import GaussianDiffusion\n",
        "from ..Utils.plotting import plot_image_grid"
      ]
    },
    {
      "cell_type": "code",
      "execution_count": 14,
      "metadata": {
        "id": "20g4nBg23-mh"
      },
      "outputs": [],
      "source": [
        "batch_size=64\n",
        "timesteps=500\n",
        "epochs=10\n",
        "device='cuda' if torch.cuda.is_available() else 'cpu'\n",
        "\n",
        "\n",
        "transform=transforms.Compose([\n",
        "    transforms.ToTensor(),\n",
        "    transforms.Normalize(mean=[0.5],std=[0.5])\n",
        "])"
      ]
    },
    {
      "cell_type": "code",
      "execution_count": 15,
      "metadata": {
        "id": "qWiyKqYN4GsZ"
      },
      "outputs": [],
      "source": [
        "dataset=datasets.MNIST('/Data',train=True,download=True,transform=transform)\n",
        "train_loader=torch.utils.data.DataLoader(dataset,batch_size,shuffle=True)"
      ]
    },
    {
      "cell_type": "code",
      "execution_count": 16,
      "metadata": {
        "id": "1072aGtx4IrI"
      },
      "outputs": [],
      "source": [
        "# Load: Model\n",
        "model=UNetModel(\n",
        "    in_channels=1,\n",
        "    model_channels=96,\n",
        "    out_channels=1,\n",
        "    channel_mult=(1,2,2),\n",
        "    attention_resolutions=[]\n",
        ")\n",
        "model.to(device)\n",
        "\n",
        "gaussian_diffusion=GaussianDiffusion(timesteps=timesteps)\n",
        "optimizer=torch.optim.Adam(model.parameters(),lr=5e-4)"
      ]
    },
    {
      "cell_type": "code",
      "execution_count": 17,
      "metadata": {
        "colab": {
          "base_uri": "https://localhost:8080/",
          "height": 516
        },
        "id": "xV0WAfXF4Pmw",
        "outputId": "a67d0859-bee9-41ef-ca5e-0107926250eb"
      },
      "outputs": [
        {
          "name": "stderr",
          "output_type": "stream",
          "text": [
            "/usr/local/lib/python3.12/dist-packages/notebook/notebookapp.py:191: SyntaxWarning: invalid escape sequence '\\/'\n",
            "  | |_| | '_ \\/ _` / _` |  _/ -_)\n"
          ]
        },
        {
          "data": {
            "application/javascript": "\n        window._wandbApiKey = new Promise((resolve, reject) => {\n            function loadScript(url) {\n            return new Promise(function(resolve, reject) {\n                let newScript = document.createElement(\"script\");\n                newScript.onerror = reject;\n                newScript.onload = resolve;\n                document.body.appendChild(newScript);\n                newScript.src = url;\n            });\n            }\n            loadScript(\"https://cdn.jsdelivr.net/npm/postmate/build/postmate.min.js\").then(() => {\n            const iframe = document.createElement('iframe')\n            iframe.style.cssText = \"width:0;height:0;border:none\"\n            document.body.appendChild(iframe)\n            const handshake = new Postmate({\n                container: iframe,\n                url: 'https://wandb.ai/authorize'\n            });\n            const timeout = setTimeout(() => reject(\"Couldn't auto authenticate\"), 5000)\n            handshake.then(function(child) {\n                child.on('authorize', data => {\n                    clearTimeout(timeout)\n                    resolve(data)\n                });\n            });\n            })\n        });\n    ",
            "text/plain": [
              "<IPython.core.display.Javascript object>"
            ]
          },
          "metadata": {},
          "output_type": "display_data"
        },
        {
          "name": "stderr",
          "output_type": "stream",
          "text": [
            "\u001b[34m\u001b[1mwandb\u001b[0m: Logging into wandb.ai. (Learn how to deploy a W&B server locally: https://wandb.me/wandb-server)\n",
            "\u001b[34m\u001b[1mwandb\u001b[0m: You can find your API key in your browser here: https://wandb.ai/authorize?ref=models\n",
            "wandb: Paste an API key from your profile and hit enter:"
          ]
        },
        {
          "name": "stdout",
          "output_type": "stream",
          "text": [
            " ··········\n"
          ]
        },
        {
          "name": "stderr",
          "output_type": "stream",
          "text": [
            "\u001b[34m\u001b[1mwandb\u001b[0m: \u001b[33mWARNING\u001b[0m If you're specifying your api key in code, ensure this code is not shared publicly.\n",
            "\u001b[34m\u001b[1mwandb\u001b[0m: \u001b[33mWARNING\u001b[0m Consider setting the WANDB_API_KEY environment variable, or running `wandb login` from the command line.\n",
            "\u001b[34m\u001b[1mwandb\u001b[0m: No netrc file found, creating one.\n",
            "\u001b[34m\u001b[1mwandb\u001b[0m: Appending key for api.wandb.ai to your netrc file: /root/.netrc\n",
            "\u001b[34m\u001b[1mwandb\u001b[0m: Currently logged in as: \u001b[33mruiqitarng\u001b[0m (\u001b[33mruiqitarng-fudan-university\u001b[0m) to \u001b[32mhttps://api.wandb.ai\u001b[0m. Use \u001b[1m`wandb login --relogin`\u001b[0m to force relogin\n"
          ]
        },
        {
          "data": {
            "text/html": [
              "Waiting for wandb.init()..."
            ],
            "text/plain": [
              "<IPython.core.display.HTML object>"
            ]
          },
          "metadata": {},
          "output_type": "display_data"
        },
        {
          "data": {
            "text/html": [
              "Tracking run with wandb version 0.21.3"
            ],
            "text/plain": [
              "<IPython.core.display.HTML object>"
            ]
          },
          "metadata": {},
          "output_type": "display_data"
        },
        {
          "data": {
            "text/html": [
              "Run data is saved locally in <code>/content/Learning-Diffusion/wandb/run-20250909_022719-vm5b4dvf</code>"
            ],
            "text/plain": [
              "<IPython.core.display.HTML object>"
            ]
          },
          "metadata": {},
          "output_type": "display_data"
        },
        {
          "data": {
            "text/html": [
              "Syncing run <strong><a href='https://wandb.ai/ruiqitarng-fudan-university/ddim-mnist/runs/vm5b4dvf' target=\"_blank\">generous-deluge-8</a></strong> to <a href='https://wandb.ai/ruiqitarng-fudan-university/ddim-mnist' target=\"_blank\">Weights & Biases</a> (<a href='https://wandb.me/developer-guide' target=\"_blank\">docs</a>)<br>"
            ],
            "text/plain": [
              "<IPython.core.display.HTML object>"
            ]
          },
          "metadata": {},
          "output_type": "display_data"
        },
        {
          "data": {
            "text/html": [
              " View project at <a href='https://wandb.ai/ruiqitarng-fudan-university/ddim-mnist' target=\"_blank\">https://wandb.ai/ruiqitarng-fudan-university/ddim-mnist</a>"
            ],
            "text/plain": [
              "<IPython.core.display.HTML object>"
            ]
          },
          "metadata": {},
          "output_type": "display_data"
        },
        {
          "data": {
            "text/html": [
              " View run at <a href='https://wandb.ai/ruiqitarng-fudan-university/ddim-mnist/runs/vm5b4dvf' target=\"_blank\">https://wandb.ai/ruiqitarng-fudan-university/ddim-mnist/runs/vm5b4dvf</a>"
            ],
            "text/plain": [
              "<IPython.core.display.HTML object>"
            ]
          },
          "metadata": {},
          "output_type": "display_data"
        },
        {
          "name": "stderr",
          "output_type": "stream",
          "text": [
            "Epoch:0: 938it [03:25,  4.56it/s]\n",
            "Epoch:1: 938it [03:26,  4.55it/s]\n",
            "Epoch:2: 938it [03:25,  4.57it/s]\n",
            "Epoch:3: 938it [03:25,  4.57it/s]\n",
            "Epoch:4: 938it [03:25,  4.57it/s]\n",
            "Epoch:5: 938it [03:25,  4.57it/s]\n",
            "Epoch:6: 938it [03:25,  4.56it/s]\n",
            "Epoch:7: 938it [03:25,  4.56it/s]\n",
            "Epoch:8: 938it [03:25,  4.55it/s]\n",
            "Epoch:9: 938it [03:25,  4.57it/s]\n"
          ]
        }
      ],
      "source": [
        "# Train Process\n",
        "images:torch.Tensor\n",
        "epoch_loss:float\n",
        "\n",
        "wandb.init(\n",
        "    project='ddim-mnist',\n",
        "    config={\n",
        "        \"batch_size\":batch_size,\n",
        "        \"timesteps\":timesteps,\n",
        "        \"epochs\":epochs,\n",
        "        \"lr\":5e-4,\n",
        "        \"model_channels\":96,\n",
        "    }\n",
        ")\n",
        "wandb.watch(model,log='all')\n",
        "\n",
        "for epoch in range(epochs):\n",
        "    epoch_loss=0.0\n",
        "    for step,(images,labels) in tqdm(enumerate(train_loader),desc=f'Epoch:{epoch}'):\n",
        "        optimizer.zero_grad()\n",
        "        batch_size=images.shape[0]\n",
        "        images=images.to(device)\n",
        "\n",
        "        '''\n",
        "            为每个时间步均匀地采样一个时间步\n",
        "            每个样本需要在不同的时间步上进行加噪或去噪，通过均匀采样t可以让模型学习到所有时间步的特征，确保对不同程度的噪声都有泛化能力\n",
        "        '''\n",
        "        t=torch.randint(0,timesteps,(batch_size,),device=device).long()\n",
        "        loss=gaussian_diffusion.train_losses(model,images,t)\n",
        "\n",
        "        loss.backward()\n",
        "        optimizer.step()\n",
        "\n",
        "        epoch_loss+=loss.item()\n",
        "        global_step=epoch*len(train_loader)+step\n",
        "        wandb.log({\n",
        "            'train/loss':loss.item(),\n",
        "            'epoch':epoch,\n",
        "            'step':global_step\n",
        "        })\n",
        "\n",
        "    avg_loss=epoch_loss/len(train_loader)\n",
        "    wandb.log({'train/epoch_loss':avg_loss,'epoch':epoch})\n",
        "\n"
      ]
    },
    {
      "cell_type": "code",
      "execution_count": null,
      "metadata": {
        "id": "eUtufH-2bKbS"
      },
      "outputs": [],
      "source": []
    }
  ],
  "metadata": {
    "accelerator": "GPU",
    "colab": {
      "authorship_tag": "ABX9TyOQi8tuamq2QZ6/ejZypJdA",
      "gpuType": "T4",
      "include_colab_link": true,
      "provenance": []
    },
    "kernelspec": {
      "display_name": "Python 3",
      "name": "python3"
    },
    "language_info": {
      "name": "python"
    }
  },
  "nbformat": 4,
  "nbformat_minor": 0
}
